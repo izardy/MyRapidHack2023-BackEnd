{
 "cells": [
  {
   "cell_type": "code",
   "execution_count": 344,
   "id": "9555f4b3",
   "metadata": {},
   "outputs": [
    {
     "ename": "SyntaxError",
     "evalue": "invalid syntax (3412943160.py, line 1)",
     "output_type": "error",
     "traceback": [
      "\u001b[0;36m  Cell \u001b[0;32mIn[344], line 1\u001b[0;36m\u001b[0m\n\u001b[0;31m    import pycaret `\u001b[0m\n\u001b[0m                   ^\u001b[0m\n\u001b[0;31mSyntaxError\u001b[0m\u001b[0;31m:\u001b[0m invalid syntax\n"
     ]
    }
   ],
   "source": [
    "import pycaret `\n",
    "import pandas as pd\n",
    "import matplotlib.pyplot as plt"
   ]
  },
  {
   "cell_type": "markdown",
   "id": "136b0097",
   "metadata": {},
   "source": [
    "## 1 Data Engineering"
   ]
  },
  {
   "cell_type": "code",
   "execution_count": 345,
   "id": "d0664860",
   "metadata": {},
   "outputs": [],
   "source": [
    "# step 1\n",
    "data = pd.read_csv(r\"/Users/user/Downloads/10_RapidKL_Hackthon/data_model.csv\")"
   ]
  },
  {
   "cell_type": "code",
   "execution_count": 346,
   "id": "810b41f3",
   "metadata": {},
   "outputs": [
    {
     "name": "stdout",
     "output_type": "stream",
     "text": [
      "Total size :  (14678, 50)\n"
     ]
    }
   ],
   "source": [
    "print('Total size : ',data.shape)"
   ]
  },
  {
   "cell_type": "code",
   "execution_count": 347,
   "id": "b6800a98",
   "metadata": {},
   "outputs": [
    {
     "name": "stdout",
     "output_type": "stream",
     "text": [
      "The columsn : Index(['ope_date', 'depot_id', 'line_id_x', 'bus_no', 'point_a', 'point_b',\n",
      "       'ttl_td_id', 'ttl_captain_id', 'ttl_point_a', 'ttl_point_b',\n",
      "       'max_diff_minutes_from_point_a', 'max_diff_minutes_idle_mode',\n",
      "       'max_diff_minutes_to_point_a', 'min_diff_minutes_from_point_a',\n",
      "       'min_diff_minutes_idle_mode', 'min_diff_minutes_to_point_a',\n",
      "       'avg_diff_minutes_from_point_a', 'avg_diff_minutes_idle_mode',\n",
      "       'avg_diff_minutes_to_point_a', 'med_diff_minutes_from_point_a',\n",
      "       'med_diff_minutes_idle_mode', 'med_diff_minutes_to_point_a',\n",
      "       'max_speed', 'min_speed', 'avg_speed', 'med_speed', 'ttl_td_completed',\n",
      "       'line_id_y', 'br_id', 'br_repair_status', 'br_entry_status', 'br_date',\n",
      "       'br_date_entry', 'br_target_completed', 'br_ttl_days', 'rtd_id',\n",
      "       'rtd_date', 'route_id', 'bus_model_id', 'driver_id', 'rtd_cause',\n",
      "       'cause_remark', 'fc_remark', 'date_issues', 'capt_id', 'bcc_acc_id',\n",
      "       'acc_date', 'bus_damage', 'eng_find', 'label'],\n",
      "      dtype='object')\n"
     ]
    }
   ],
   "source": [
    "print('The columsn :',data.columns)"
   ]
  },
  {
   "cell_type": "code",
   "execution_count": null,
   "id": "bb0a6cdd",
   "metadata": {},
   "outputs": [],
   "source": [
    "# #  description of the columns\n",
    "# #\n",
    "# # trip_departure.csv\n",
    "# 'ope_date'\n",
    "# 'depot_id'\n",
    "# 'line_id_x'\n",
    "# 'bus_no'\n",
    "# 'point_a'\n",
    "# 'point_b'\n",
    "\n",
    "# # accident.csv \n",
    "# 'ttl_captain_id'\n",
    "# 'ttl_point_a'\n",
    "# 'ttl_point_b'\n",
    "\n",
    "# # ??\n",
    "# 'max_diff_minutes_from_point_a'\n",
    "# 'max_diff_minutes_idle_mode'\n",
    "\n",
    "# 'max_diff_minutes_to_point_a'\n",
    "# 'min_diff_minutes_from_point_a'\n",
    "\n",
    "# 'min_diff_minutes_idle_mode'\n",
    "# 'min_diff_minutes_to_point_a'\n",
    "\n",
    "# 'avg_diff_minutes_from_point_a'\n",
    "# 'avg_diff_minutes_idle_mode'\n",
    "\n",
    "# 'avg_diff_minutes_to_point_a'\n",
    "# 'med_diff_minutes_from_point_a'\n",
    "\n",
    "# 'med_diff_minutes_idle_mode'\n",
    "# 'med_diff_minutes_to_point_a'\n",
    "\n",
    "# # ??\n",
    "# 'max_speed'\n",
    "# 'min_speed'\n",
    "# 'avg_speed'\n",
    "# 'med_speed'\n",
    "# 'ttl_td_completed'\n",
    "\n",
    "# 'line_id_y'\n",
    "\n",
    "# # eng_bus_repair.csv\n",
    "# 'br_id'\n",
    "# 'br_repair_status'\n",
    "# 'br_entry_status'\n",
    "# 'br_date'\n",
    "# 'br_date_entry'\n",
    "# 'br_target_completed'\n",
    "# 'br_ttl_days'\n",
    "# # return to depot\n",
    "# # rtd.csv\n",
    "# 'rtd_id'\n",
    "# 'rtd_date'\n",
    "# 'route_id'\n",
    "# 'bus_model_id'\n",
    "# 'driver_id'\n",
    "# 'rtd_cause'\n",
    "# 'cause_remark'\n",
    "# 'fc_remark'\n",
    "# 'date_issues'\n",
    "# 'capt_id'\n",
    "# 'bcc_acc_id'\n",
    "# # accident.csv \n",
    "# 'acc_date'\n",
    "# 'bus_damage'\n",
    "# 'eng_find'\n",
    "# 'label'"
   ]
  },
  {
   "cell_type": "code",
   "execution_count": 348,
   "id": "6c6fc8f7",
   "metadata": {},
   "outputs": [],
   "source": [
    "# step 2\n",
    "# should drop this since we are not sure how to process this remarks \n",
    "data = data.drop(['cause_remark'], axis=1)\n",
    "data = data.drop(['fc_remark'], axis=1)\n",
    "data = data.drop(['bus_damage'], axis=1)\n",
    "# should drop since only 1 or less value or banyak null value \n",
    "data = data.drop(['acc_date'], axis=1)\n",
    "data = data.drop(['eng_find'], axis=1)\n",
    "data = data.drop(['bcc_acc_id'], axis=1)"
   ]
  },
  {
   "cell_type": "code",
   "execution_count": null,
   "id": "7d98f228",
   "metadata": {},
   "outputs": [],
   "source": [
    "# columnms di bawah hendak digunakan \n",
    "# sebab nya columns di bawah sudah dalam numerical \n",
    "#data = data.drop(['line_id_x'], axis=1)\n",
    "#data = data.drop(['rtd_date'], axis=1)\n",
    "#data = data.drop(['rtd_cause'], axis=1)\n",
    "#data = data.drop(['br_id'], axis=1)\n",
    "#data = data.drop(['br_repair_status'], axis=1)\n",
    "#data = data.drop(['br_entry_status'], axis=1)\n",
    "#data = data.drop(['br_ttl_days'], axis=1)\n",
    "#data = data.drop(['rtd_id'], axis=1)\n",
    "#data = data.drop(['route_id'], axis=1)\n",
    "#data = data.drop(['bus_model_id'], axis=1)\n",
    "#data = data.drop(['driver_id'], axis=1)\n",
    "#data = data.drop(['capt_id'], axis=1)"
   ]
  },
  {
   "cell_type": "code",
   "execution_count": 349,
   "id": "8f9798aa",
   "metadata": {},
   "outputs": [],
   "source": [
    "# step 3 \n",
    "# columns ini semua adalah dates\n",
    "# kena make sense dulu \n",
    "\n",
    "# do conversion\n",
    "#\n",
    "#\n",
    "#\n",
    "data['ope_date'] = pd.to_datetime(data['ope_date'],format='%Y-%m-%d')\n",
    "data['date_issues'] = pd.to_datetime(data['date_issues'],format='%Y-%m-%d')\n",
    "data['br_date'] = pd.to_datetime(data['br_date'],format='%Y-%m-%d')\n",
    "data['br_date_entry'] = pd.to_datetime(data['br_date_entry'],format='%Y-%m-%d')\n",
    "data['br_target_completed'] = pd.to_datetime(data['br_target_completed'],format='%Y-%m-%d')\n",
    "\n",
    "# berapa beza waktu masa antara ope_date(trip) dengan mula tanda ada problem(date_issues)\n",
    "data['WaktuSebelumProblem'] = data['ope_date'].dt.day-data['date_issues'].dt.day\n",
    "# berapa beza waktu masa antara bus repair(sepatutnya) dengan masa dilakukan inspection (br_date_entry)\n",
    "data['WaktuSebelumInspection'] = data['br_date_entry'].dt.day-data['br_date'].dt.day\n",
    "# berapa beza waktu masa digunakan untuk repair antara br_date_entry dengan br_target_completed\n",
    "data['WaktuDiambikUtkRepair'] = data['br_target_completed'].dt.day-data['br_date_entry'].dt.day\n",
    "# \n",
    "\n",
    "# once done, the tdrop\n",
    "# \n",
    "data = data.drop(['ope_date'], axis=1)\n",
    "data = data.drop(['date_issues'], axis=1)\n",
    "data = data.drop(['br_date'], axis=1)\n",
    "data = data.drop(['br_date_entry'], axis=1)\n",
    "data = data.drop(['br_target_completed'], axis=1)"
   ]
  },
  {
   "cell_type": "code",
   "execution_count": 350,
   "id": "18d6a49d",
   "metadata": {},
   "outputs": [
    {
     "name": "stdout",
     "output_type": "stream",
     "text": [
      "2    11083\n",
      "1     2576\n",
      "3     1015\n",
      "0        4\n",
      "Name: labelencoded, dtype: int64\n",
      "76     475\n",
      "643    278\n",
      "573    142\n",
      "373    131\n",
      "652    123\n",
      "      ... \n",
      "16       1\n",
      "453      1\n",
      "275      1\n",
      "548      1\n",
      "421      1\n",
      "Name: busencoded, Length: 658, dtype: int64\n",
      "77     879\n",
      "23     571\n",
      "64     457\n",
      "88     441\n",
      "72     355\n",
      "      ... \n",
      "1       17\n",
      "0       13\n",
      "5       12\n",
      "124      5\n",
      "83       3\n",
      "Name: point_aencoded, Length: 129, dtype: int64\n",
      "64     1560\n",
      "90      864\n",
      "65      703\n",
      "101     580\n",
      "48      491\n",
      "       ... \n",
      "99       14\n",
      "97       12\n",
      "23       12\n",
      "62        4\n",
      "38        3\n",
      "Name: point_bencoded, Length: 147, dtype: int64\n",
      "129    879\n",
      "67     455\n",
      "125    345\n",
      "116    303\n",
      "140    296\n",
      "      ... \n",
      "4       15\n",
      "14      14\n",
      "15      12\n",
      "13      12\n",
      "70       8\n",
      "Name: line_id_yencoded, Length: 167, dtype: int64\n",
      "-1       12102\n",
      " 23          4\n",
      " 587         4\n",
      " 846         4\n",
      " 41          4\n",
      "         ...  \n",
      " 332         1\n",
      " 383         1\n",
      " 399         1\n",
      " 453         1\n",
      " 1041        1\n",
      "Name: br_idencoded, Length: 2535, dtype: int64\n",
      "-1    12102\n",
      " 3     1591\n",
      " 0      670\n",
      " 2      185\n",
      " 4      104\n",
      " 6       22\n",
      " 5        3\n",
      " 1        1\n",
      "Name: br_repair_statusencoded, dtype: int64\n",
      "-1      12102\n",
      " 72       464\n",
      " 34       242\n",
      " 35       148\n",
      " 90       129\n",
      "        ...  \n",
      " 124        1\n",
      " 105        1\n",
      " 108        1\n",
      " 66         1\n",
      " 180        1\n",
      "Name: br_entry_statusencoded, Length: 183, dtype: int64\n"
     ]
    }
   ],
   "source": [
    "# Step 4 \n",
    "# baru encoding yg belum numerical nie. \n",
    "# encode 1 \n",
    "# bus label\n",
    "data.cc = pd.Categorical(data.label)\n",
    "data['labelencoded'] = data.cc.codes\n",
    "data = data.drop('label',axis=1)\n",
    "print(data.labelencoded.value_counts())\n",
    "# encode 2 \n",
    "# bus id \n",
    "data.cc = pd.Categorical(data.bus_no)\n",
    "data['busencoded'] = data.cc.codes\n",
    "data = data.drop('bus_no',axis=1)\n",
    "print(data.busencoded.value_counts())\n",
    "# encode 3\n",
    "# point_a\n",
    "data.cc = pd.Categorical(data.point_a)\n",
    "data['point_aencoded'] = data.cc.codes\n",
    "data = data.drop('point_a',axis=1)\n",
    "print(data.point_aencoded.value_counts())\n",
    "# encode 4\n",
    "# point_b\n",
    "data.cc = pd.Categorical(data.point_b)\n",
    "data['point_bencoded'] = data.cc.codes\n",
    "data = data.drop('point_b',axis=1)\n",
    "print(data.point_bencoded.value_counts())\n",
    "# encode 5\n",
    "# line_id_y\n",
    "data.cc = pd.Categorical(data.line_id_y)\n",
    "data['line_id_yencoded'] = data.cc.codes\n",
    "data = data.drop('line_id_y',axis=1)\n",
    "print(data.line_id_yencoded.value_counts())\n",
    "# encode 6\n",
    "# br_id\n",
    "data.cc = pd.Categorical(data.br_id)\n",
    "data['br_idencoded'] = data.cc.codes\n",
    "data = data.drop('br_id',axis=1)\n",
    "print(data.br_idencoded.value_counts())\n",
    "# encode 7\n",
    "# br_id\n",
    "data.cc = pd.Categorical(data.br_repair_status)\n",
    "data['br_repair_statusencoded'] = data.cc.codes\n",
    "data = data.drop('br_repair_status',axis=1)\n",
    "print(data.br_repair_statusencoded.value_counts())\n",
    "# encode 8\n",
    "# br_id\n",
    "data.cc = pd.Categorical(data.br_entry_status)\n",
    "data['br_entry_statusencoded'] = data.cc.codes\n",
    "data = data.drop('br_entry_status',axis=1)\n",
    "print(data.br_entry_statusencoded.value_counts())\n",
    "\n",
    "\n",
    "# encode 9\n",
    "# br_id\n",
    "data.cc = pd.Categorical(data.br_entry_status)\n",
    "data['br_entry_statusencoded'] = data.cc.codes\n",
    "data = data.drop('br_entry_status',axis=1)\n",
    "print(data.br_entry_statusencoded.value_counts())\n",
    "\n",
    "\n",
    "\n",
    "# encode 10\n",
    "# br_id\n",
    "data.cc = pd.Categorical(data.br_entry_status)\n",
    "data['br_entry_statusencoded'] = data.cc.codes\n",
    "data = data.drop('br_entry_status',axis=1)\n",
    "print(data.br_entry_statusencoded.value_counts())\n",
    "\n",
    "\n",
    "\n",
    "\n",
    "# encode 11\n",
    "# br_id\n",
    "data.cc = pd.Categorical(data.br_entry_status)\n",
    "data['br_entry_statusencoded'] = data.cc.codes\n",
    "data = data.drop('br_entry_status',axis=1)\n",
    "print(data.br_entry_statusencoded.value_counts())\n",
    "\n",
    "\n",
    "\n",
    "# encode 12\n",
    "# br_id\n",
    "data.cc = pd.Categorical(data.br_entry_status)\n",
    "data['br_entry_statusencoded'] = data.cc.codes\n",
    "data = data.drop('br_entry_status',axis=1)\n",
    "print(data.br_entry_statusencoded.value_counts())\n",
    "\n",
    "\n",
    "\n",
    "# encode 13\n",
    "# br_id\n",
    "data.cc = pd.Categorical(data.br_entry_status)\n",
    "data['br_entry_statusencoded'] = data.cc.codes\n",
    "data = data.drop('br_entry_status',axis=1)\n",
    "print(data.br_entry_statusencoded.value_counts())\n",
    "\n",
    "\n",
    "\n",
    "# encode 14\n",
    "# br_id\n",
    "data.cc = pd.Categorical(data.br_entry_status)\n",
    "data['br_entry_statusencoded'] = data.cc.codes\n",
    "data = data.drop('br_entry_status',axis=1)\n",
    "print(data.br_entry_statusencoded.value_counts())\n"
   ]
  },
  {
   "cell_type": "code",
   "execution_count": null,
   "id": "852a8236",
   "metadata": {},
   "outputs": [],
   "source": []
  },
  {
   "cell_type": "code",
   "execution_count": null,
   "id": "06a6970d",
   "metadata": {},
   "outputs": [],
   "source": []
  },
  {
   "cell_type": "code",
   "execution_count": null,
   "id": "438d1322",
   "metadata": {},
   "outputs": [],
   "source": []
  },
  {
   "cell_type": "code",
   "execution_count": null,
   "id": "1991abe9",
   "metadata": {},
   "outputs": [],
   "source": []
  },
  {
   "cell_type": "code",
   "execution_count": null,
   "id": "0a0c7242",
   "metadata": {},
   "outputs": [],
   "source": []
  },
  {
   "cell_type": "code",
   "execution_count": null,
   "id": "38ea175d",
   "metadata": {},
   "outputs": [],
   "source": []
  },
  {
   "cell_type": "code",
   "execution_count": null,
   "id": "fcd36e64",
   "metadata": {},
   "outputs": [],
   "source": []
  },
  {
   "cell_type": "code",
   "execution_count": null,
   "id": "e4050735",
   "metadata": {},
   "outputs": [],
   "source": []
  },
  {
   "cell_type": "code",
   "execution_count": null,
   "id": "805fe26e",
   "metadata": {},
   "outputs": [],
   "source": [
    "# since the 'labelencoded' is not balanced, hence need to use SMOTE\n",
    "# but some said SMOTE is not correct. i seems to agree too. "
   ]
  },
  {
   "cell_type": "code",
   "execution_count": 351,
   "id": "48753185",
   "metadata": {},
   "outputs": [
    {
     "ename": "ValueError",
     "evalue": "could not convert string to float: 'K1000'",
     "output_type": "error",
     "traceback": [
      "\u001b[0;31m---------------------------------------------------------------------------\u001b[0m",
      "\u001b[0;31mValueError\u001b[0m                                Traceback (most recent call last)",
      "\u001b[0;32m/var/folders/90/0dsv350s24j__4rhx_slnfg40000gn/T/ipykernel_92506/3372982024.py\u001b[0m in \u001b[0;36m?\u001b[0;34m()\u001b[0m\n\u001b[0;32m----> 7\u001b[0;31m \u001b[0;32mfrom\u001b[0m \u001b[0mimblearn\u001b[0m\u001b[0;34m.\u001b[0m\u001b[0mover_sampling\u001b[0m \u001b[0;32mimport\u001b[0m \u001b[0mSMOTE\u001b[0m\u001b[0;34m\u001b[0m\u001b[0;34m\u001b[0m\u001b[0m\n\u001b[0m\u001b[1;32m      8\u001b[0m \u001b[0mseed\u001b[0m \u001b[0;34m=\u001b[0m \u001b[0;36m100\u001b[0m\u001b[0;34m\u001b[0m\u001b[0;34m\u001b[0m\u001b[0m\n\u001b[1;32m      9\u001b[0m \u001b[0mk\u001b[0m \u001b[0;34m=\u001b[0m\u001b[0;36m1\u001b[0m\u001b[0;34m\u001b[0m\u001b[0;34m\u001b[0m\u001b[0m\n\u001b[1;32m     10\u001b[0m \u001b[0mX\u001b[0m \u001b[0;34m=\u001b[0m \u001b[0mdata\u001b[0m\u001b[0;34m.\u001b[0m\u001b[0mloc\u001b[0m\u001b[0;34m[\u001b[0m\u001b[0;34m:\u001b[0m\u001b[0;34m,\u001b[0m \u001b[0mdata\u001b[0m\u001b[0;34m.\u001b[0m\u001b[0mcolumns\u001b[0m \u001b[0;34m!=\u001b[0m \u001b[0;34m'labelencoded'\u001b[0m\u001b[0;34m]\u001b[0m\u001b[0;34m\u001b[0m\u001b[0;34m\u001b[0m\u001b[0m\n",
      "\u001b[0;32m~/anaconda3/envs/pycaretaku/lib/python3.8/site-packages/imblearn/base.py\u001b[0m in \u001b[0;36m?\u001b[0;34m(self, X, y)\u001b[0m\n\u001b[1;32m    204\u001b[0m         \u001b[0my_resampled\u001b[0m \u001b[0;34m:\u001b[0m \u001b[0marray\u001b[0m\u001b[0;34m-\u001b[0m\u001b[0mlike\u001b[0m \u001b[0mof\u001b[0m \u001b[0mshape\u001b[0m \u001b[0;34m(\u001b[0m\u001b[0mn_samples_new\u001b[0m\u001b[0;34m,\u001b[0m\u001b[0;34m)\u001b[0m\u001b[0;34m\u001b[0m\u001b[0;34m\u001b[0m\u001b[0m\n\u001b[1;32m    205\u001b[0m             \u001b[0mThe\u001b[0m \u001b[0mcorresponding\u001b[0m \u001b[0mlabel\u001b[0m \u001b[0mof\u001b[0m\u001b[0;31m \u001b[0m\u001b[0;31m`\u001b[0m\u001b[0mX_resampled\u001b[0m\u001b[0;31m`\u001b[0m\u001b[0;34m.\u001b[0m\u001b[0;34m\u001b[0m\u001b[0;34m\u001b[0m\u001b[0m\n\u001b[1;32m    206\u001b[0m         \"\"\"\n\u001b[1;32m    207\u001b[0m         \u001b[0mself\u001b[0m\u001b[0;34m.\u001b[0m\u001b[0m_validate_params\u001b[0m\u001b[0;34m(\u001b[0m\u001b[0;34m)\u001b[0m\u001b[0;34m\u001b[0m\u001b[0;34m\u001b[0m\u001b[0m\n\u001b[0;32m--> 208\u001b[0;31m         \u001b[0;32mreturn\u001b[0m \u001b[0msuper\u001b[0m\u001b[0;34m(\u001b[0m\u001b[0;34m)\u001b[0m\u001b[0;34m.\u001b[0m\u001b[0mfit_resample\u001b[0m\u001b[0;34m(\u001b[0m\u001b[0mX\u001b[0m\u001b[0;34m,\u001b[0m \u001b[0my\u001b[0m\u001b[0;34m)\u001b[0m\u001b[0;34m\u001b[0m\u001b[0;34m\u001b[0m\u001b[0m\n\u001b[0m",
      "\u001b[0;32m~/anaconda3/envs/pycaretaku/lib/python3.8/site-packages/imblearn/base.py\u001b[0m in \u001b[0;36m?\u001b[0;34m(self, X, y)\u001b[0m\n\u001b[1;32m    102\u001b[0m             \u001b[0mThe\u001b[0m \u001b[0mcorresponding\u001b[0m \u001b[0mlabel\u001b[0m \u001b[0mof\u001b[0m\u001b[0;31m \u001b[0m\u001b[0;31m`\u001b[0m\u001b[0mX_resampled\u001b[0m\u001b[0;31m`\u001b[0m\u001b[0;34m.\u001b[0m\u001b[0;34m\u001b[0m\u001b[0;34m\u001b[0m\u001b[0m\n\u001b[1;32m    103\u001b[0m         \"\"\"\n\u001b[1;32m    104\u001b[0m         \u001b[0mcheck_classification_targets\u001b[0m\u001b[0;34m(\u001b[0m\u001b[0my\u001b[0m\u001b[0;34m)\u001b[0m\u001b[0;34m\u001b[0m\u001b[0;34m\u001b[0m\u001b[0m\n\u001b[1;32m    105\u001b[0m         \u001b[0marrays_transformer\u001b[0m \u001b[0;34m=\u001b[0m \u001b[0mArraysTransformer\u001b[0m\u001b[0;34m(\u001b[0m\u001b[0mX\u001b[0m\u001b[0;34m,\u001b[0m \u001b[0my\u001b[0m\u001b[0;34m)\u001b[0m\u001b[0;34m\u001b[0m\u001b[0;34m\u001b[0m\u001b[0m\n\u001b[0;32m--> 106\u001b[0;31m         \u001b[0mX\u001b[0m\u001b[0;34m,\u001b[0m \u001b[0my\u001b[0m\u001b[0;34m,\u001b[0m \u001b[0mbinarize_y\u001b[0m \u001b[0;34m=\u001b[0m \u001b[0mself\u001b[0m\u001b[0;34m.\u001b[0m\u001b[0m_check_X_y\u001b[0m\u001b[0;34m(\u001b[0m\u001b[0mX\u001b[0m\u001b[0;34m,\u001b[0m \u001b[0my\u001b[0m\u001b[0;34m)\u001b[0m\u001b[0;34m\u001b[0m\u001b[0;34m\u001b[0m\u001b[0m\n\u001b[0m\u001b[1;32m    107\u001b[0m \u001b[0;34m\u001b[0m\u001b[0m\n\u001b[1;32m    108\u001b[0m         self.sampling_strategy_ = check_sampling_strategy(\n\u001b[1;32m    109\u001b[0m             \u001b[0mself\u001b[0m\u001b[0;34m.\u001b[0m\u001b[0msampling_strategy\u001b[0m\u001b[0;34m,\u001b[0m \u001b[0my\u001b[0m\u001b[0;34m,\u001b[0m \u001b[0mself\u001b[0m\u001b[0;34m.\u001b[0m\u001b[0m_sampling_type\u001b[0m\u001b[0;34m\u001b[0m\u001b[0;34m\u001b[0m\u001b[0m\n",
      "\u001b[0;32m~/anaconda3/envs/pycaretaku/lib/python3.8/site-packages/imblearn/base.py\u001b[0m in \u001b[0;36m?\u001b[0;34m(self, X, y, accept_sparse)\u001b[0m\n\u001b[1;32m    157\u001b[0m     \u001b[0;32mdef\u001b[0m \u001b[0m_check_X_y\u001b[0m\u001b[0;34m(\u001b[0m\u001b[0mself\u001b[0m\u001b[0;34m,\u001b[0m \u001b[0mX\u001b[0m\u001b[0;34m,\u001b[0m \u001b[0my\u001b[0m\u001b[0;34m,\u001b[0m \u001b[0maccept_sparse\u001b[0m\u001b[0;34m=\u001b[0m\u001b[0;32mNone\u001b[0m\u001b[0;34m)\u001b[0m\u001b[0;34m:\u001b[0m\u001b[0;34m\u001b[0m\u001b[0;34m\u001b[0m\u001b[0m\n\u001b[1;32m    158\u001b[0m         \u001b[0;32mif\u001b[0m \u001b[0maccept_sparse\u001b[0m \u001b[0;32mis\u001b[0m \u001b[0;32mNone\u001b[0m\u001b[0;34m:\u001b[0m\u001b[0;34m\u001b[0m\u001b[0;34m\u001b[0m\u001b[0m\n\u001b[1;32m    159\u001b[0m             \u001b[0maccept_sparse\u001b[0m \u001b[0;34m=\u001b[0m \u001b[0;34m[\u001b[0m\u001b[0;34m\"csr\"\u001b[0m\u001b[0;34m,\u001b[0m \u001b[0;34m\"csc\"\u001b[0m\u001b[0;34m]\u001b[0m\u001b[0;34m\u001b[0m\u001b[0;34m\u001b[0m\u001b[0m\n\u001b[1;32m    160\u001b[0m         \u001b[0my\u001b[0m\u001b[0;34m,\u001b[0m \u001b[0mbinarize_y\u001b[0m \u001b[0;34m=\u001b[0m \u001b[0mcheck_target_type\u001b[0m\u001b[0;34m(\u001b[0m\u001b[0my\u001b[0m\u001b[0;34m,\u001b[0m \u001b[0mindicate_one_vs_all\u001b[0m\u001b[0;34m=\u001b[0m\u001b[0;32mTrue\u001b[0m\u001b[0;34m)\u001b[0m\u001b[0;34m\u001b[0m\u001b[0;34m\u001b[0m\u001b[0m\n\u001b[0;32m--> 161\u001b[0;31m         \u001b[0mX\u001b[0m\u001b[0;34m,\u001b[0m \u001b[0my\u001b[0m \u001b[0;34m=\u001b[0m \u001b[0mself\u001b[0m\u001b[0;34m.\u001b[0m\u001b[0m_validate_data\u001b[0m\u001b[0;34m(\u001b[0m\u001b[0mX\u001b[0m\u001b[0;34m,\u001b[0m \u001b[0my\u001b[0m\u001b[0;34m,\u001b[0m \u001b[0mreset\u001b[0m\u001b[0;34m=\u001b[0m\u001b[0;32mTrue\u001b[0m\u001b[0;34m,\u001b[0m \u001b[0maccept_sparse\u001b[0m\u001b[0;34m=\u001b[0m\u001b[0maccept_sparse\u001b[0m\u001b[0;34m)\u001b[0m\u001b[0;34m\u001b[0m\u001b[0;34m\u001b[0m\u001b[0m\n\u001b[0m\u001b[1;32m    162\u001b[0m         \u001b[0;32mreturn\u001b[0m \u001b[0mX\u001b[0m\u001b[0;34m,\u001b[0m \u001b[0my\u001b[0m\u001b[0;34m,\u001b[0m \u001b[0mbinarize_y\u001b[0m\u001b[0;34m\u001b[0m\u001b[0;34m\u001b[0m\u001b[0m\n",
      "\u001b[0;32m~/anaconda3/envs/pycaretaku/lib/python3.8/site-packages/sklearn/base.py\u001b[0m in \u001b[0;36m?\u001b[0;34m(self, X, y, reset, validate_separately, **check_params)\u001b[0m\n\u001b[1;32m    580\u001b[0m                 \u001b[0;32mif\u001b[0m \u001b[0;34m\"estimator\"\u001b[0m \u001b[0;32mnot\u001b[0m \u001b[0;32min\u001b[0m \u001b[0mcheck_y_params\u001b[0m\u001b[0;34m:\u001b[0m\u001b[0;34m\u001b[0m\u001b[0;34m\u001b[0m\u001b[0m\n\u001b[1;32m    581\u001b[0m                     \u001b[0mcheck_y_params\u001b[0m \u001b[0;34m=\u001b[0m \u001b[0;34m{\u001b[0m\u001b[0;34m**\u001b[0m\u001b[0mdefault_check_params\u001b[0m\u001b[0;34m,\u001b[0m \u001b[0;34m**\u001b[0m\u001b[0mcheck_y_params\u001b[0m\u001b[0;34m}\u001b[0m\u001b[0;34m\u001b[0m\u001b[0;34m\u001b[0m\u001b[0m\n\u001b[1;32m    582\u001b[0m                 \u001b[0my\u001b[0m \u001b[0;34m=\u001b[0m \u001b[0mcheck_array\u001b[0m\u001b[0;34m(\u001b[0m\u001b[0my\u001b[0m\u001b[0;34m,\u001b[0m \u001b[0minput_name\u001b[0m\u001b[0;34m=\u001b[0m\u001b[0;34m\"y\"\u001b[0m\u001b[0;34m,\u001b[0m \u001b[0;34m**\u001b[0m\u001b[0mcheck_y_params\u001b[0m\u001b[0;34m)\u001b[0m\u001b[0;34m\u001b[0m\u001b[0;34m\u001b[0m\u001b[0m\n\u001b[1;32m    583\u001b[0m             \u001b[0;32melse\u001b[0m\u001b[0;34m:\u001b[0m\u001b[0;34m\u001b[0m\u001b[0;34m\u001b[0m\u001b[0m\n\u001b[0;32m--> 584\u001b[0;31m                 \u001b[0mX\u001b[0m\u001b[0;34m,\u001b[0m \u001b[0my\u001b[0m \u001b[0;34m=\u001b[0m \u001b[0mcheck_X_y\u001b[0m\u001b[0;34m(\u001b[0m\u001b[0mX\u001b[0m\u001b[0;34m,\u001b[0m \u001b[0my\u001b[0m\u001b[0;34m,\u001b[0m \u001b[0;34m**\u001b[0m\u001b[0mcheck_params\u001b[0m\u001b[0;34m)\u001b[0m\u001b[0;34m\u001b[0m\u001b[0;34m\u001b[0m\u001b[0m\n\u001b[0m\u001b[1;32m    585\u001b[0m             \u001b[0mout\u001b[0m \u001b[0;34m=\u001b[0m \u001b[0mX\u001b[0m\u001b[0;34m,\u001b[0m \u001b[0my\u001b[0m\u001b[0;34m\u001b[0m\u001b[0;34m\u001b[0m\u001b[0m\n\u001b[1;32m    586\u001b[0m \u001b[0;34m\u001b[0m\u001b[0m\n\u001b[1;32m    587\u001b[0m         \u001b[0;32mif\u001b[0m \u001b[0;32mnot\u001b[0m \u001b[0mno_val_X\u001b[0m \u001b[0;32mand\u001b[0m \u001b[0mcheck_params\u001b[0m\u001b[0;34m.\u001b[0m\u001b[0mget\u001b[0m\u001b[0;34m(\u001b[0m\u001b[0;34m\"ensure_2d\"\u001b[0m\u001b[0;34m,\u001b[0m \u001b[0;32mTrue\u001b[0m\u001b[0;34m)\u001b[0m\u001b[0;34m:\u001b[0m\u001b[0;34m\u001b[0m\u001b[0;34m\u001b[0m\u001b[0m\n",
      "\u001b[0;32m~/anaconda3/envs/pycaretaku/lib/python3.8/site-packages/sklearn/utils/validation.py\u001b[0m in \u001b[0;36m?\u001b[0;34m(X, y, accept_sparse, accept_large_sparse, dtype, order, copy, force_all_finite, ensure_2d, allow_nd, multi_output, ensure_min_samples, ensure_min_features, y_numeric, estimator)\u001b[0m\n\u001b[1;32m   1102\u001b[0m         raise ValueError(\n\u001b[1;32m   1103\u001b[0m             \u001b[0;34mf\"{estimator_name} requires y to be passed, but the target y is None\"\u001b[0m\u001b[0;34m\u001b[0m\u001b[0;34m\u001b[0m\u001b[0m\n\u001b[1;32m   1104\u001b[0m         )\n\u001b[1;32m   1105\u001b[0m \u001b[0;34m\u001b[0m\u001b[0m\n\u001b[0;32m-> 1106\u001b[0;31m     X = check_array(\n\u001b[0m\u001b[1;32m   1107\u001b[0m         \u001b[0mX\u001b[0m\u001b[0;34m,\u001b[0m\u001b[0;34m\u001b[0m\u001b[0;34m\u001b[0m\u001b[0m\n\u001b[1;32m   1108\u001b[0m         \u001b[0maccept_sparse\u001b[0m\u001b[0;34m=\u001b[0m\u001b[0maccept_sparse\u001b[0m\u001b[0;34m,\u001b[0m\u001b[0;34m\u001b[0m\u001b[0;34m\u001b[0m\u001b[0m\n\u001b[1;32m   1109\u001b[0m         \u001b[0maccept_large_sparse\u001b[0m\u001b[0;34m=\u001b[0m\u001b[0maccept_large_sparse\u001b[0m\u001b[0;34m,\u001b[0m\u001b[0;34m\u001b[0m\u001b[0;34m\u001b[0m\u001b[0m\n",
      "\u001b[0;32m~/anaconda3/envs/pycaretaku/lib/python3.8/site-packages/sklearn/utils/validation.py\u001b[0m in \u001b[0;36m?\u001b[0;34m(array, accept_sparse, accept_large_sparse, dtype, order, copy, force_all_finite, ensure_2d, allow_nd, ensure_min_samples, ensure_min_features, estimator, input_name)\u001b[0m\n\u001b[1;32m    877\u001b[0m                     \u001b[0marray\u001b[0m \u001b[0;34m=\u001b[0m \u001b[0mxp\u001b[0m\u001b[0;34m.\u001b[0m\u001b[0mastype\u001b[0m\u001b[0;34m(\u001b[0m\u001b[0marray\u001b[0m\u001b[0;34m,\u001b[0m \u001b[0mdtype\u001b[0m\u001b[0;34m,\u001b[0m \u001b[0mcopy\u001b[0m\u001b[0;34m=\u001b[0m\u001b[0;32mFalse\u001b[0m\u001b[0;34m)\u001b[0m\u001b[0;34m\u001b[0m\u001b[0;34m\u001b[0m\u001b[0m\n\u001b[1;32m    878\u001b[0m                 \u001b[0;32melse\u001b[0m\u001b[0;34m:\u001b[0m\u001b[0;34m\u001b[0m\u001b[0;34m\u001b[0m\u001b[0m\n\u001b[1;32m    879\u001b[0m                     \u001b[0marray\u001b[0m \u001b[0;34m=\u001b[0m \u001b[0m_asarray_with_order\u001b[0m\u001b[0;34m(\u001b[0m\u001b[0marray\u001b[0m\u001b[0;34m,\u001b[0m \u001b[0morder\u001b[0m\u001b[0;34m=\u001b[0m\u001b[0morder\u001b[0m\u001b[0;34m,\u001b[0m \u001b[0mdtype\u001b[0m\u001b[0;34m=\u001b[0m\u001b[0mdtype\u001b[0m\u001b[0;34m,\u001b[0m \u001b[0mxp\u001b[0m\u001b[0;34m=\u001b[0m\u001b[0mxp\u001b[0m\u001b[0;34m)\u001b[0m\u001b[0;34m\u001b[0m\u001b[0;34m\u001b[0m\u001b[0m\n\u001b[1;32m    880\u001b[0m             \u001b[0;32mexcept\u001b[0m \u001b[0mComplexWarning\u001b[0m \u001b[0;32mas\u001b[0m \u001b[0mcomplex_warning\u001b[0m\u001b[0;34m:\u001b[0m\u001b[0;34m\u001b[0m\u001b[0;34m\u001b[0m\u001b[0m\n\u001b[0;32m--> 881\u001b[0;31m                 raise ValueError(\n\u001b[0m\u001b[1;32m    882\u001b[0m                     \u001b[0;34m\"Complex data not supported\\n{}\\n\"\u001b[0m\u001b[0;34m.\u001b[0m\u001b[0mformat\u001b[0m\u001b[0;34m(\u001b[0m\u001b[0marray\u001b[0m\u001b[0;34m)\u001b[0m\u001b[0;34m\u001b[0m\u001b[0;34m\u001b[0m\u001b[0m\n\u001b[1;32m    883\u001b[0m                 ) from complex_warning\n\u001b[1;32m    884\u001b[0m \u001b[0;34m\u001b[0m\u001b[0m\n",
      "\u001b[0;32m~/anaconda3/envs/pycaretaku/lib/python3.8/site-packages/sklearn/utils/_array_api.py\u001b[0m in \u001b[0;36m?\u001b[0;34m(array, dtype, order, copy, xp)\u001b[0m\n\u001b[1;32m    181\u001b[0m     \u001b[0;32mif\u001b[0m \u001b[0mxp\u001b[0m \u001b[0;32mis\u001b[0m \u001b[0;32mNone\u001b[0m\u001b[0;34m:\u001b[0m\u001b[0;34m\u001b[0m\u001b[0;34m\u001b[0m\u001b[0m\n\u001b[1;32m    182\u001b[0m         \u001b[0mxp\u001b[0m\u001b[0;34m,\u001b[0m \u001b[0m_\u001b[0m \u001b[0;34m=\u001b[0m \u001b[0mget_namespace\u001b[0m\u001b[0;34m(\u001b[0m\u001b[0marray\u001b[0m\u001b[0;34m)\u001b[0m\u001b[0;34m\u001b[0m\u001b[0;34m\u001b[0m\u001b[0m\n\u001b[1;32m    183\u001b[0m     \u001b[0;32mif\u001b[0m \u001b[0mxp\u001b[0m\u001b[0;34m.\u001b[0m\u001b[0m__name__\u001b[0m \u001b[0;32min\u001b[0m \u001b[0;34m{\u001b[0m\u001b[0;34m\"numpy\"\u001b[0m\u001b[0;34m,\u001b[0m \u001b[0;34m\"numpy.array_api\"\u001b[0m\u001b[0;34m}\u001b[0m\u001b[0;34m:\u001b[0m\u001b[0;34m\u001b[0m\u001b[0;34m\u001b[0m\u001b[0m\n\u001b[1;32m    184\u001b[0m         \u001b[0;31m# Use NumPy API to support order\u001b[0m\u001b[0;34m\u001b[0m\u001b[0;34m\u001b[0m\u001b[0;34m\u001b[0m\u001b[0m\n\u001b[0;32m--> 185\u001b[0;31m         \u001b[0marray\u001b[0m \u001b[0;34m=\u001b[0m \u001b[0mnumpy\u001b[0m\u001b[0;34m.\u001b[0m\u001b[0masarray\u001b[0m\u001b[0;34m(\u001b[0m\u001b[0marray\u001b[0m\u001b[0;34m,\u001b[0m \u001b[0morder\u001b[0m\u001b[0;34m=\u001b[0m\u001b[0morder\u001b[0m\u001b[0;34m,\u001b[0m \u001b[0mdtype\u001b[0m\u001b[0;34m=\u001b[0m\u001b[0mdtype\u001b[0m\u001b[0;34m)\u001b[0m\u001b[0;34m\u001b[0m\u001b[0;34m\u001b[0m\u001b[0m\n\u001b[0m\u001b[1;32m    186\u001b[0m         \u001b[0;32mreturn\u001b[0m \u001b[0mxp\u001b[0m\u001b[0;34m.\u001b[0m\u001b[0masarray\u001b[0m\u001b[0;34m(\u001b[0m\u001b[0marray\u001b[0m\u001b[0;34m,\u001b[0m \u001b[0mcopy\u001b[0m\u001b[0;34m=\u001b[0m\u001b[0mcopy\u001b[0m\u001b[0;34m)\u001b[0m\u001b[0;34m\u001b[0m\u001b[0;34m\u001b[0m\u001b[0m\n\u001b[1;32m    187\u001b[0m     \u001b[0;32melse\u001b[0m\u001b[0;34m:\u001b[0m\u001b[0;34m\u001b[0m\u001b[0;34m\u001b[0m\u001b[0m\n\u001b[1;32m    188\u001b[0m         \u001b[0;32mreturn\u001b[0m \u001b[0mxp\u001b[0m\u001b[0;34m.\u001b[0m\u001b[0masarray\u001b[0m\u001b[0;34m(\u001b[0m\u001b[0marray\u001b[0m\u001b[0;34m,\u001b[0m \u001b[0mdtype\u001b[0m\u001b[0;34m=\u001b[0m\u001b[0mdtype\u001b[0m\u001b[0;34m,\u001b[0m \u001b[0mcopy\u001b[0m\u001b[0;34m=\u001b[0m\u001b[0mcopy\u001b[0m\u001b[0;34m)\u001b[0m\u001b[0;34m\u001b[0m\u001b[0;34m\u001b[0m\u001b[0m\n",
      "\u001b[0;32m~/anaconda3/envs/pycaretaku/lib/python3.8/site-packages/pandas/core/generic.py\u001b[0m in \u001b[0;36m?\u001b[0;34m(self, dtype)\u001b[0m\n\u001b[1;32m   2069\u001b[0m     \u001b[0;32mdef\u001b[0m \u001b[0m__array__\u001b[0m\u001b[0;34m(\u001b[0m\u001b[0mself\u001b[0m\u001b[0;34m,\u001b[0m \u001b[0mdtype\u001b[0m\u001b[0;34m:\u001b[0m \u001b[0mnpt\u001b[0m\u001b[0;34m.\u001b[0m\u001b[0mDTypeLike\u001b[0m \u001b[0;34m|\u001b[0m \u001b[0;32mNone\u001b[0m \u001b[0;34m=\u001b[0m \u001b[0;32mNone\u001b[0m\u001b[0;34m)\u001b[0m \u001b[0;34m->\u001b[0m \u001b[0mnp\u001b[0m\u001b[0;34m.\u001b[0m\u001b[0mndarray\u001b[0m\u001b[0;34m:\u001b[0m\u001b[0;34m\u001b[0m\u001b[0;34m\u001b[0m\u001b[0m\n\u001b[0;32m-> 2070\u001b[0;31m         \u001b[0;32mreturn\u001b[0m \u001b[0mnp\u001b[0m\u001b[0;34m.\u001b[0m\u001b[0masarray\u001b[0m\u001b[0;34m(\u001b[0m\u001b[0mself\u001b[0m\u001b[0;34m.\u001b[0m\u001b[0m_values\u001b[0m\u001b[0;34m,\u001b[0m \u001b[0mdtype\u001b[0m\u001b[0;34m=\u001b[0m\u001b[0mdtype\u001b[0m\u001b[0;34m)\u001b[0m\u001b[0;34m\u001b[0m\u001b[0;34m\u001b[0m\u001b[0m\n\u001b[0m",
      "\u001b[0;31mValueError\u001b[0m: could not convert string to float: 'K1000'"
     ]
    }
   ],
   "source": [
    "from imblearn.over_sampling import SMOTE\n",
    "seed = 100\n",
    "k =1\n",
    "X = data.loc[:, data.columns != 'labelencoded']\n",
    "y = data.labelencoded\n",
    "sm = SMOTE(sampling_strategy='auto', k_neighbors=k, random_state=seed)\n",
    "X_res, y_res = sm.fit_resample(X, y)"
   ]
  },
  {
   "cell_type": "code",
   "execution_count": null,
   "id": "6f2aeb1a",
   "metadata": {},
   "outputs": [],
   "source": [
    "print(X_res.shape)\n",
    "print(y_res.shape)"
   ]
  },
  {
   "cell_type": "code",
   "execution_count": null,
   "id": "8211692c",
   "metadata": {},
   "outputs": [],
   "source": [
    "X_res.head(2)"
   ]
  },
  {
   "cell_type": "code",
   "execution_count": null,
   "id": "59bb9eee",
   "metadata": {},
   "outputs": [],
   "source": [
    "df = pd.concat([pd.DataFrame(X_res), pd.DataFrame(y_res)], axis=1)\n",
    "# rename the columns\n",
    "df.to_csv('df_smoted.csv', index=False, encoding='utf-8')"
   ]
  },
  {
   "cell_type": "code",
   "execution_count": null,
   "id": "4a44096c",
   "metadata": {},
   "outputs": [],
   "source": [
    "print(df.shape)\n",
    "df.head(2)"
   ]
  },
  {
   "cell_type": "code",
   "execution_count": null,
   "id": "de2649c1",
   "metadata": {},
   "outputs": [],
   "source": []
  },
  {
   "cell_type": "code",
   "execution_count": null,
   "id": "f84ed6e1",
   "metadata": {},
   "outputs": [],
   "source": []
  },
  {
   "cell_type": "markdown",
   "id": "a9fb2ef6",
   "metadata": {},
   "source": [
    "# 2 Machine Learning"
   ]
  },
  {
   "cell_type": "code",
   "execution_count": null,
   "id": "962cbd9d",
   "metadata": {},
   "outputs": [],
   "source": [
    "from pycaret.classification import *\n",
    "s = setup(data, target = 'labelencoded', session_id = 123,normalize = True, normalize_method = 'minmax')"
   ]
  },
  {
   "cell_type": "code",
   "execution_count": null,
   "id": "4db386d7",
   "metadata": {},
   "outputs": [],
   "source": []
  },
  {
   "cell_type": "code",
   "execution_count": null,
   "id": "09b6027b",
   "metadata": {},
   "outputs": [],
   "source": [
    "get_config('X_train_transformed').columns"
   ]
  },
  {
   "cell_type": "code",
   "execution_count": null,
   "id": "23871d75",
   "metadata": {},
   "outputs": [],
   "source": [
    "get_config('X_train_transformed')['bus_no'].hist()"
   ]
  },
  {
   "cell_type": "code",
   "execution_count": null,
   "id": "4e02c7e7",
   "metadata": {},
   "outputs": [],
   "source": [
    "# # import ClassificationExperiment and init the class\n",
    "# from pycaret.classification import ClassificationExperiment\n",
    "# exp = ClassificationExperiment()"
   ]
  },
  {
   "cell_type": "code",
   "execution_count": null,
   "id": "6d33ecb6",
   "metadata": {},
   "outputs": [],
   "source": [
    "# compare baseline models\n",
    "best = compare_models()"
   ]
  },
  {
   "cell_type": "code",
   "execution_count": null,
   "id": "80419db7",
   "metadata": {},
   "outputs": [],
   "source": [
    "# plot confusion matrix\n",
    "plot_model(best, plot = 'confusion_matrix')"
   ]
  },
  {
   "cell_type": "code",
   "execution_count": null,
   "id": "20e6582f",
   "metadata": {},
   "outputs": [],
   "source": [
    "# plot AUC\n",
    "plot_model(best, plot = 'auc')"
   ]
  },
  {
   "cell_type": "code",
   "execution_count": null,
   "id": "93ddc035",
   "metadata": {},
   "outputs": [],
   "source": [
    "# plot feature importance\n",
    "plot_model(best, plot = 'feature')"
   ]
  },
  {
   "cell_type": "code",
   "execution_count": null,
   "id": "26e61edc",
   "metadata": {},
   "outputs": [],
   "source": [
    "# Ensemble model \n",
    "dt = create_model('dt')\n",
    "# train individual models to blend\n",
    "dt = create_model('dt', verbose = False)\n",
    "rf = create_model('rf', verbose = False)\n",
    "et = create_model('et', verbose = False)\n",
    "# blend individual models\n",
    "blender = blend_models(estimator_list = [dt, rf,et])"
   ]
  },
  {
   "cell_type": "code",
   "execution_count": null,
   "id": "7bb79f32",
   "metadata": {},
   "outputs": [],
   "source": [
    "blender"
   ]
  },
  {
   "cell_type": "code",
   "execution_count": null,
   "id": "586d4f40",
   "metadata": {},
   "outputs": [],
   "source": [
    "stacked = stack_models(estimator_list = [dt, rf,et])"
   ]
  },
  {
   "cell_type": "code",
   "execution_count": null,
   "id": "dffdc0de",
   "metadata": {},
   "outputs": [],
   "source": [
    "# plot class report\n",
    "plot_model(best, plot = 'class_report')"
   ]
  },
  {
   "cell_type": "code",
   "execution_count": null,
   "id": "be3c0fb9",
   "metadata": {},
   "outputs": [],
   "source": []
  },
  {
   "cell_type": "code",
   "execution_count": null,
   "id": "77fd3a3e",
   "metadata": {},
   "outputs": [],
   "source": []
  },
  {
   "cell_type": "code",
   "execution_count": null,
   "id": "f2420fd6",
   "metadata": {},
   "outputs": [],
   "source": []
  },
  {
   "cell_type": "code",
   "execution_count": null,
   "id": "4a6840cd",
   "metadata": {},
   "outputs": [],
   "source": []
  },
  {
   "cell_type": "code",
   "execution_count": null,
   "id": "5217e5f0",
   "metadata": {},
   "outputs": [],
   "source": []
  },
  {
   "cell_type": "code",
   "execution_count": null,
   "id": "f6e00fb3",
   "metadata": {},
   "outputs": [],
   "source": []
  },
  {
   "cell_type": "code",
   "execution_count": null,
   "id": "6d0b1da4",
   "metadata": {},
   "outputs": [],
   "source": []
  },
  {
   "cell_type": "code",
   "execution_count": null,
   "id": "3654d634",
   "metadata": {},
   "outputs": [],
   "source": [
    "save_model(best, 'Rapid_multiclassification_model')"
   ]
  },
  {
   "cell_type": "code",
   "execution_count": null,
   "id": "9e60cdbd",
   "metadata": {},
   "outputs": [],
   "source": []
  },
  {
   "cell_type": "code",
   "execution_count": null,
   "id": "a6019b28",
   "metadata": {},
   "outputs": [],
   "source": []
  },
  {
   "cell_type": "markdown",
   "id": "a9f49c49",
   "metadata": {},
   "source": [
    "# Predict Out-of-sample data "
   ]
  },
  {
   "cell_type": "code",
   "execution_count": null,
   "id": "64844a76",
   "metadata": {},
   "outputs": [],
   "source": [
    "# copy data and drop Class variable\n",
    "\n",
    "new_data = \n",
    "new_data.drop('labelencoded', axis=1, inplace=True)\n",
    "new_data.head()"
   ]
  },
  {
   "cell_type": "code",
   "execution_count": null,
   "id": "1286640b",
   "metadata": {},
   "outputs": [],
   "source": [
    "# predict model on new_data\n",
    "predictions = predict_model(best, data = new_data)\n",
    "predictions.head()"
   ]
  },
  {
   "cell_type": "code",
   "execution_count": null,
   "id": "f0cd7589",
   "metadata": {},
   "outputs": [],
   "source": []
  },
  {
   "cell_type": "code",
   "execution_count": null,
   "id": "105095e9",
   "metadata": {},
   "outputs": [],
   "source": []
  }
 ],
 "metadata": {
  "kernelspec": {
   "display_name": "pycaretaku",
   "language": "python",
   "name": "pycaretaku"
  },
  "language_info": {
   "codemirror_mode": {
    "name": "ipython",
    "version": 3
   },
   "file_extension": ".py",
   "mimetype": "text/x-python",
   "name": "python",
   "nbconvert_exporter": "python",
   "pygments_lexer": "ipython3",
   "version": "3.8.17"
  }
 },
 "nbformat": 4,
 "nbformat_minor": 5
}
