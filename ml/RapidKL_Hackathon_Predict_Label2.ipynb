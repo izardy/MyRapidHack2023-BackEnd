{
 "cells": [
  {
   "cell_type": "code",
   "execution_count": 275,
   "id": "c8f30a02",
   "metadata": {},
   "outputs": [],
   "source": [
    "import pycaret \n",
    "import pandas as pd\n",
    "import matplotlib.pyplot as plt"
   ]
  },
  {
   "cell_type": "code",
   "execution_count": 278,
   "id": "dbfb635e",
   "metadata": {},
   "outputs": [],
   "source": [
    "data = pd.read_csv(r\"/Users/user/Downloads/10_RapidKL_Hackthon/data_model.csv\")"
   ]
  },
  {
   "cell_type": "code",
   "execution_count": 279,
   "id": "d316e2c6",
   "metadata": {},
   "outputs": [
    {
     "data": {
      "text/plain": [
       "(14678, 50)"
      ]
     },
     "execution_count": 279,
     "metadata": {},
     "output_type": "execute_result"
    }
   ],
   "source": [
    "data.shape"
   ]
  },
  {
   "cell_type": "code",
   "execution_count": 281,
   "id": "2e519e86",
   "metadata": {},
   "outputs": [
    {
     "data": {
      "text/plain": [
       "Index(['ope_date', 'depot_id', 'line_id_x', 'bus_no', 'point_a', 'point_b',\n",
       "       'ttl_td_id', 'ttl_captain_id', 'ttl_point_a', 'ttl_point_b',\n",
       "       'max_diff_minutes_from_point_a', 'max_diff_minutes_idle_mode',\n",
       "       'max_diff_minutes_to_point_a', 'min_diff_minutes_from_point_a',\n",
       "       'min_diff_minutes_idle_mode', 'min_diff_minutes_to_point_a',\n",
       "       'avg_diff_minutes_from_point_a', 'avg_diff_minutes_idle_mode',\n",
       "       'avg_diff_minutes_to_point_a', 'med_diff_minutes_from_point_a',\n",
       "       'med_diff_minutes_idle_mode', 'med_diff_minutes_to_point_a',\n",
       "       'max_speed', 'min_speed', 'avg_speed', 'med_speed', 'ttl_td_completed',\n",
       "       'line_id_y', 'br_id', 'br_repair_status', 'br_entry_status', 'br_date',\n",
       "       'br_date_entry', 'br_target_completed', 'br_ttl_days', 'rtd_id',\n",
       "       'rtd_date', 'route_id', 'bus_model_id', 'driver_id', 'rtd_cause',\n",
       "       'cause_remark', 'fc_remark', 'date_issues', 'capt_id', 'bcc_acc_id',\n",
       "       'acc_date', 'bus_damage', 'eng_find', 'label'],\n",
       "      dtype='object')"
      ]
     },
     "execution_count": 281,
     "metadata": {},
     "output_type": "execute_result"
    }
   ],
   "source": [
    "data.columns"
   ]
  },
  {
   "cell_type": "code",
   "execution_count": 282,
   "id": "bbf52ee6",
   "metadata": {},
   "outputs": [],
   "source": [
    "#  description of the columns\n",
    "#\n",
    "# trip_departure.csv\n",
    "'ope_date'\n",
    "'depot_id'\n",
    "'line_id_x'\n",
    "'bus_no'\n",
    "'point_a'\n",
    "'point_b'\n",
    "\n",
    "# accident.csv \n",
    "'ttl_captain_id'\n",
    "'ttl_point_a'\n",
    "'ttl_point_b'\n",
    "\n",
    "# ??\n",
    "'max_diff_minutes_from_point_a'\n",
    "'max_diff_minutes_idle_mode'\n",
    "\n",
    "'max_diff_minutes_to_point_a'\n",
    "'min_diff_minutes_from_point_a'\n",
    "\n",
    "'min_diff_minutes_idle_mode'\n",
    "'min_diff_minutes_to_point_a'\n",
    "\n",
    "'avg_diff_minutes_from_point_a'\n",
    "'avg_diff_minutes_idle_mode'\n",
    "\n",
    "'avg_diff_minutes_to_point_a'\n",
    "'med_diff_minutes_from_point_a'\n",
    "\n",
    "'med_diff_minutes_idle_mode'\n",
    "'med_diff_minutes_to_point_a'\n",
    "\n",
    "# ??\n",
    "'max_speed'\n",
    "'min_speed'\n",
    "'avg_speed'\n",
    "'med_speed'\n",
    "'ttl_td_completed'\n",
    "\n",
    "'line_id_y'\n",
    "\n",
    "# eng_bus_repair.csv\n",
    "'br_id'\n",
    "'br_repair_status'\n",
    "'br_entry_status'\n",
    "'br_date'\n",
    "'br_date_entry'\n",
    "'br_target_completed'\n",
    "'br_ttl_days'\n",
    "# return to depot\n",
    "# rtd.csv\n",
    "'rtd_id'\n",
    "'rtd_date'\n",
    "'route_id'\n",
    "'bus_model_id'\n",
    "'driver_id'\n",
    "'rtd_cause'\n",
    "'cause_remark'\n",
    "'fc_remark'\n",
    "'date_issues'\n",
    "'capt_id'\n",
    "'bcc_acc_id'\n",
    "# accident.csv \n",
    "'acc_date'\n",
    "'bus_damage'\n",
    "'eng_find'\n",
    "'label'"
   ]
  },
  {
   "cell_type": "code",
   "execution_count": 297,
   "id": "5f98076a",
   "metadata": {},
   "outputs": [
    {
     "data": {
      "text/plain": [
       "array([   nan, 15828.])"
      ]
     },
     "execution_count": 297,
     "metadata": {},
     "output_type": "execute_result"
    }
   ],
   "source": [
    "data.bcc_acc_id.unique()"
   ]
  },
  {
   "cell_type": "code",
   "execution_count": null,
   "id": "e22845ae",
   "metadata": {},
   "outputs": [],
   "source": [
    "# should drop this since we are not sure how to process this remarks \n",
    "data = data.drop(['cause_remark'], axis=1)\n",
    "data = data.drop(['fc_remark'], axis=1)\n",
    "data = data.drop(['bus_damage'], axis=1)\n",
    "# should drop since only 1 or less value or banyak null value \n",
    "data = data.drop(['acc_date'], axis=1)\n",
    "data = data.drop(['eng_find'], axis=1)\n",
    "data = data.drop(['bcc_acc_id'], axis=1)\n"
   ]
  },
  {
   "cell_type": "code",
   "execution_count": null,
   "id": "17c71ca8",
   "metadata": {},
   "outputs": [],
   "source": [
    "data = data.drop(['ope_date'], axis=1)\n",
    "data = data.drop(['br_date'], axis=1)\n",
    "data = data.drop(['br_date_entry'], axis=1)\n",
    "data = data.drop(['date_issues'], axis=1)\n",
    "\n",
    "data = data.drop(['line_id_x'], axis=1)\n",
    "data = data.drop(['br_target_completed'], axis=1)\n",
    "data = data.drop(['rtd_date'], axis=1)\n",
    "data = data.drop(['rtd_cause'], axis=1)\n",
    "\n",
    "#data = data.drop(['br_id'], axis=1)\n",
    "#data = data.drop(['br_repair_status'], axis=1)\n",
    "#data = data.drop(['br_entry_status'], axis=1)\n",
    "data = data.drop(['br_ttl_days'], axis=1)\n",
    "data = data.drop(['rtd_id'], axis=1)\n",
    "data = data.drop(['route_id'], axis=1)\n",
    "data = data.drop(['bus_model_id'], axis=1)\n",
    "data = data.drop(['driver_id'], axis=1)\n",
    "data = data.drop(['capt_id'], axis=1)\n"
   ]
  },
  {
   "cell_type": "code",
   "execution_count": null,
   "id": "96c722c8",
   "metadata": {},
   "outputs": [],
   "source": [
    "print(data.shape)\n",
    "print(data.columns)"
   ]
  },
  {
   "cell_type": "code",
   "execution_count": null,
   "id": "a38bf2a4",
   "metadata": {},
   "outputs": [],
   "source": [
    "data.tail(3).T"
   ]
  },
  {
   "cell_type": "code",
   "execution_count": null,
   "id": "97518beb",
   "metadata": {},
   "outputs": [],
   "source": [
    "# encode 1 \n",
    "# bus label\n",
    "data.cc = pd.Categorical(data.label)\n",
    "data['labelencoded'] = data.cc.codes\n",
    "data = data.drop('label',axis=1)\n",
    "print(data.labelencoded.value_counts())"
   ]
  },
  {
   "cell_type": "code",
   "execution_count": null,
   "id": "3b14c6e9",
   "metadata": {},
   "outputs": [],
   "source": [
    "# encode 2 \n",
    "# bus id \n",
    "data.cc = pd.Categorical(data.bus_no)\n",
    "data['busencoded'] = data.cc.codes\n",
    "data = data.drop('bus_no',axis=1)\n",
    "print(data.busencoded.value_counts())"
   ]
  },
  {
   "cell_type": "code",
   "execution_count": null,
   "id": "8d0735fc",
   "metadata": {},
   "outputs": [],
   "source": [
    "# encode 3\n",
    "# point_a\n",
    "data.cc = pd.Categorical(data.point_a)\n",
    "data['point_aencoded'] = data.cc.codes\n",
    "data = data.drop('point_a',axis=1)\n",
    "print(data.point_aencoded.value_counts())\n",
    "\n",
    "# encode 4\n",
    "# point_b\n",
    "data.cc = pd.Categorical(data.point_b)\n",
    "data['point_bencoded'] = data.cc.codes\n",
    "data = data.drop('point_b',axis=1)\n",
    "print(data.point_bencoded.value_counts())\n",
    "\n",
    "# encode 5\n",
    "# line_id_y\n",
    "data.cc = pd.Categorical(data.line_id_y)\n",
    "data['line_id_yencoded'] = data.cc.codes\n",
    "data = data.drop('line_id_y',axis=1)\n",
    "print(data.line_id_yencoded.value_counts())\n",
    "\n",
    "# encode 6\n",
    "# br_id\n",
    "data.cc = pd.Categorical(data.br_id)\n",
    "data['br_idencoded'] = data.cc.codes\n",
    "data = data.drop('br_id',axis=1)\n",
    "print(data.br_idencoded.value_counts())\n",
    "\n",
    "# encode 7\n",
    "# br_id\n",
    "data.cc = pd.Categorical(data.br_repair_status)\n",
    "data['br_repair_statusencoded'] = data.cc.codes\n",
    "data = data.drop('br_repair_status',axis=1)\n",
    "print(data.br_repair_statusencoded.value_counts())\n",
    "\n",
    "\n",
    "# encode 8\n",
    "# br_id\n",
    "data.cc = pd.Categorical(data.br_entry_status)\n",
    "data['br_entry_statusencoded'] = data.cc.codes\n",
    "data = data.drop('br_entry_status',axis=1)\n",
    "print(data.br_entry_statusencoded.value_counts())"
   ]
  },
  {
   "cell_type": "code",
   "execution_count": null,
   "id": "1cecd101",
   "metadata": {},
   "outputs": [],
   "source": [
    "data.head(1000).T"
   ]
  },
  {
   "cell_type": "code",
   "execution_count": null,
   "id": "6c8b5b79",
   "metadata": {},
   "outputs": [],
   "source": []
  },
  {
   "cell_type": "code",
   "execution_count": null,
   "id": "b9d9a1ea",
   "metadata": {},
   "outputs": [],
   "source": []
  },
  {
   "cell_type": "code",
   "execution_count": null,
   "id": "bfda5588",
   "metadata": {},
   "outputs": [],
   "source": []
  },
  {
   "cell_type": "code",
   "execution_count": null,
   "id": "a517423a",
   "metadata": {},
   "outputs": [],
   "source": []
  },
  {
   "cell_type": "code",
   "execution_count": null,
   "id": "1b0f0fd7",
   "metadata": {},
   "outputs": [],
   "source": []
  },
  {
   "cell_type": "code",
   "execution_count": null,
   "id": "250c63f5",
   "metadata": {},
   "outputs": [],
   "source": []
  },
  {
   "cell_type": "code",
   "execution_count": null,
   "id": "ed2df1ec",
   "metadata": {},
   "outputs": [],
   "source": []
  },
  {
   "cell_type": "code",
   "execution_count": null,
   "id": "b46f8089",
   "metadata": {},
   "outputs": [],
   "source": []
  },
  {
   "cell_type": "code",
   "execution_count": null,
   "id": "fb01eaed",
   "metadata": {},
   "outputs": [],
   "source": []
  },
  {
   "cell_type": "code",
   "execution_count": null,
   "id": "259bfffd",
   "metadata": {},
   "outputs": [],
   "source": [
    "data.fillna(0,inplace=True)"
   ]
  },
  {
   "cell_type": "code",
   "execution_count": null,
   "id": "75790cf3",
   "metadata": {},
   "outputs": [],
   "source": [
    "from imblearn.over_sampling import SMOTE\n",
    "seed = 100\n",
    "k =1\n",
    "X = data.loc[:, data.columns != 'labelencoded']\n",
    "y = data.labelencoded\n",
    "sm = SMOTE(sampling_strategy='auto', k_neighbors=k, random_state=seed)\n",
    "X_res, y_res = sm.fit_resample(X, y)"
   ]
  },
  {
   "cell_type": "code",
   "execution_count": null,
   "id": "9b6c04e4",
   "metadata": {},
   "outputs": [],
   "source": [
    "print(X_res.shape)\n",
    "print(y_res.shape)"
   ]
  },
  {
   "cell_type": "code",
   "execution_count": null,
   "id": "24dd7f22",
   "metadata": {},
   "outputs": [],
   "source": [
    "X_res.head(2)"
   ]
  },
  {
   "cell_type": "code",
   "execution_count": null,
   "id": "ff6c041c",
   "metadata": {},
   "outputs": [],
   "source": [
    "df = pd.concat([pd.DataFrame(X_res), pd.DataFrame(y_res)], axis=1)\n",
    "# rename the columns\n",
    "df.to_csv('df_smoted.csv', index=False, encoding='utf-8')"
   ]
  },
  {
   "cell_type": "code",
   "execution_count": null,
   "id": "2aaf38e0",
   "metadata": {},
   "outputs": [],
   "source": [
    "print(df.shape)\n",
    "df.head(2)"
   ]
  },
  {
   "cell_type": "code",
   "execution_count": null,
   "id": "93235505",
   "metadata": {},
   "outputs": [],
   "source": []
  },
  {
   "cell_type": "code",
   "execution_count": null,
   "id": "42de597c",
   "metadata": {},
   "outputs": [],
   "source": []
  },
  {
   "cell_type": "markdown",
   "id": "7b706581",
   "metadata": {},
   "source": [
    "## Start ML"
   ]
  },
  {
   "cell_type": "code",
   "execution_count": null,
   "id": "777d5840",
   "metadata": {},
   "outputs": [],
   "source": [
    "from pycaret.classification import *\n",
    "s = setup(data, target = 'labelencoded', session_id = 123,normalize = True, normalize_method = 'minmax')"
   ]
  },
  {
   "cell_type": "code",
   "execution_count": null,
   "id": "4c4bae40",
   "metadata": {},
   "outputs": [],
   "source": []
  },
  {
   "cell_type": "code",
   "execution_count": null,
   "id": "b3cb3540",
   "metadata": {},
   "outputs": [],
   "source": [
    "get_config('X_train_transformed').columns"
   ]
  },
  {
   "cell_type": "code",
   "execution_count": null,
   "id": "8a95d3d2",
   "metadata": {},
   "outputs": [],
   "source": [
    "get_config('X_train_transformed')['bus_no'].hist()"
   ]
  },
  {
   "cell_type": "code",
   "execution_count": null,
   "id": "a6af6996",
   "metadata": {},
   "outputs": [],
   "source": [
    "# # import ClassificationExperiment and init the class\n",
    "# from pycaret.classification import ClassificationExperiment\n",
    "# exp = ClassificationExperiment()"
   ]
  },
  {
   "cell_type": "code",
   "execution_count": null,
   "id": "b85be981",
   "metadata": {},
   "outputs": [],
   "source": [
    "# compare baseline models\n",
    "best = compare_models()"
   ]
  },
  {
   "cell_type": "code",
   "execution_count": null,
   "id": "314b85ad",
   "metadata": {},
   "outputs": [],
   "source": [
    "# plot confusion matrix\n",
    "plot_model(best, plot = 'confusion_matrix')"
   ]
  },
  {
   "cell_type": "code",
   "execution_count": null,
   "id": "766abc98",
   "metadata": {},
   "outputs": [],
   "source": [
    "# plot AUC\n",
    "plot_model(best, plot = 'auc')"
   ]
  },
  {
   "cell_type": "code",
   "execution_count": null,
   "id": "5b35a76f",
   "metadata": {},
   "outputs": [],
   "source": [
    "# plot feature importance\n",
    "plot_model(best, plot = 'feature')"
   ]
  },
  {
   "cell_type": "code",
   "execution_count": null,
   "id": "30d9e618",
   "metadata": {},
   "outputs": [],
   "source": [
    "# Ensemble model \n",
    "dt = create_model('dt')\n",
    "# train individual models to blend\n",
    "dt = create_model('dt', verbose = False)\n",
    "rf = create_model('rf', verbose = False)\n",
    "et = create_model('et', verbose = False)\n",
    "# blend individual models\n",
    "blender = blend_models(estimator_list = [dt, rf,et])"
   ]
  },
  {
   "cell_type": "code",
   "execution_count": null,
   "id": "cf75a4da",
   "metadata": {},
   "outputs": [],
   "source": [
    "blender"
   ]
  },
  {
   "cell_type": "code",
   "execution_count": null,
   "id": "4633dc18",
   "metadata": {},
   "outputs": [],
   "source": [
    "stacked = stack_models(estimator_list = [dt, rf,et])"
   ]
  },
  {
   "cell_type": "code",
   "execution_count": null,
   "id": "4a0be27b",
   "metadata": {},
   "outputs": [],
   "source": [
    "# plot class report\n",
    "plot_model(best, plot = 'class_report')"
   ]
  },
  {
   "cell_type": "code",
   "execution_count": null,
   "id": "758e76d1",
   "metadata": {},
   "outputs": [],
   "source": []
  },
  {
   "cell_type": "code",
   "execution_count": null,
   "id": "66fd3ed6",
   "metadata": {},
   "outputs": [],
   "source": []
  },
  {
   "cell_type": "code",
   "execution_count": null,
   "id": "a2a98743",
   "metadata": {},
   "outputs": [],
   "source": []
  },
  {
   "cell_type": "code",
   "execution_count": null,
   "id": "853d59ab",
   "metadata": {},
   "outputs": [],
   "source": []
  },
  {
   "cell_type": "code",
   "execution_count": null,
   "id": "7c315ceb",
   "metadata": {},
   "outputs": [],
   "source": []
  },
  {
   "cell_type": "code",
   "execution_count": null,
   "id": "de8093c8",
   "metadata": {},
   "outputs": [],
   "source": []
  },
  {
   "cell_type": "code",
   "execution_count": null,
   "id": "dc6895e2",
   "metadata": {},
   "outputs": [],
   "source": []
  },
  {
   "cell_type": "code",
   "execution_count": null,
   "id": "4058ff7d",
   "metadata": {},
   "outputs": [],
   "source": [
    "save_model(best, 'Rapid_multiclassification_model')"
   ]
  },
  {
   "cell_type": "code",
   "execution_count": null,
   "id": "0589d51e",
   "metadata": {},
   "outputs": [],
   "source": []
  },
  {
   "cell_type": "code",
   "execution_count": null,
   "id": "01b7443f",
   "metadata": {},
   "outputs": [],
   "source": []
  },
  {
   "cell_type": "markdown",
   "id": "5a9dd30e",
   "metadata": {},
   "source": [
    "## Predict Unseen Data "
   ]
  },
  {
   "cell_type": "code",
   "execution_count": null,
   "id": "19baf42d",
   "metadata": {},
   "outputs": [],
   "source": [
    "# copy data and drop Class variable\n",
    "\n",
    "new_data = \n",
    "new_data.drop('labelencoded', axis=1, inplace=True)\n",
    "new_data.head()"
   ]
  },
  {
   "cell_type": "code",
   "execution_count": null,
   "id": "b1ae9f69",
   "metadata": {},
   "outputs": [],
   "source": [
    "# predict model on new_data\n",
    "predictions = predict_model(best, data = new_data)\n",
    "predictions.head()"
   ]
  },
  {
   "cell_type": "code",
   "execution_count": null,
   "id": "30dc5560",
   "metadata": {},
   "outputs": [],
   "source": []
  },
  {
   "cell_type": "code",
   "execution_count": null,
   "id": "fc37f507",
   "metadata": {},
   "outputs": [],
   "source": []
  }
 ],
 "metadata": {
  "kernelspec": {
   "display_name": "pycaretaku",
   "language": "python",
   "name": "pycaretaku"
  },
  "language_info": {
   "codemirror_mode": {
    "name": "ipython",
    "version": 3
   },
   "file_extension": ".py",
   "mimetype": "text/x-python",
   "name": "python",
   "nbconvert_exporter": "python",
   "pygments_lexer": "ipython3",
   "version": "3.8.17"
  }
 },
 "nbformat": 4,
 "nbformat_minor": 5
}
