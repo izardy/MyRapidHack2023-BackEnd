{
 "cells": [
  {
   "cell_type": "markdown",
   "metadata": {},
   "source": [
    "### Splitting Data (100MB >) Into Smaller Chunks"
   ]
  },
  {
   "cell_type": "code",
   "execution_count": null,
   "metadata": {},
   "outputs": [],
   "source": [
    "#identifying timestamp from the obtained data of daily trip for Rapid's buses \n",
    "#pd.read_csv('../data/trip_departure.csv')[['ope_date']].drop_duplicates() # output below indicate data availibility is from 1st Jan 2022 to 30th Jun 2023 \n"
   ]
  },
  {
   "cell_type": "code",
   "execution_count": null,
   "metadata": {},
   "outputs": [],
   "source": [
    "#trip_departure=pd.read_csv('../data/trip_departure.csv')\n",
    "#trip_departure['ope_date']=pd.to_datetime(trip_departure['ope_date'])\n",
    "#trip_departure"
   ]
  },
  {
   "cell_type": "code",
   "execution_count": null,
   "metadata": {},
   "outputs": [],
   "source": [
    "#split trip departure data\n",
    "\n",
    "months=list(range(1,13,1))\n",
    "years=list(range(2022,2024,1))\n",
    "\n",
    "for year in years:\n",
    "    for month in months:\n",
    "        filename='../data/trip_departure/trip_departure_'+str(month)+'_'+str(year)+'.csv'\n",
    "        trip_departure[(trip_departure['ope_date'].dt.month==month)&(trip_departure['ope_date'].dt.year==year)].to_csv(filename,index=False)"
   ]
  },
  {
   "cell_type": "code",
   "execution_count": null,
   "metadata": {},
   "outputs": [],
   "source": [
    "#pd.read_csv('../data/captain_schedule.csv')[['cs_date']].drop_duplicates()"
   ]
  },
  {
   "cell_type": "code",
   "execution_count": null,
   "metadata": {},
   "outputs": [],
   "source": [
    "#identifying timestamp from the obtained data of captain schedule for Rapid's buses \n",
    "#captain_schedule=pd.read_csv('../data/captain_schedule/captain_schedule.csv')# output below indicate data availibility is from 1st Jan 2022 to 30th Jun 2023 \n",
    "#captain_schedule['cs_date']=pd.to_datetime(captain_schedule['cs_date'])\n",
    "#captain_schedule"
   ]
  },
  {
   "cell_type": "code",
   "execution_count": null,
   "metadata": {},
   "outputs": [],
   "source": [
    "#split captain schedule data\n",
    "\n",
    "#months=list(range(1,13,1))\n",
    "#years=list(range(2022,2024,1))\n",
    "\n",
    "#for year in years:\n",
    "#    for month in months:\n",
    "#        filename='../data/captain_schedule_'+str(month)+'_'+str(year)+'.csv'\n",
    "#        captain_schedule[(captain_schedule['cs_date'].dt.month==month)&(captain_schedule['cs_date'].dt.year==year)].to_csv(filename,index=False)"
   ]
  },
  {
   "cell_type": "markdown",
   "metadata": {},
   "source": [
    "### Read Data Directly from Google Drive (<100MB)"
   ]
  },
  {
   "cell_type": "code",
   "execution_count": null,
   "metadata": {},
   "outputs": [],
   "source": [
    "'''\n",
    "#read data from google drive\n",
    "import pandas as pd\n",
    "\n",
    "url_route='https://drive.google.com/file/d/1Zpo2zNZ3V1W1X4Z-icmugbCMZwHIcvCQ/view?usp=sharing' #route data\n",
    "file_id_route=url_route.split('/')[-2]\n",
    "dwn_url_route='https://drive.google.com/uc?id=' + file_id_route\n",
    "\n",
    "url_rtd='https://drive.google.com/file/d/1rsJl1dTXFxP9NdzYWQDg-Mi5uaPq7Sdt/view?usp=sharing' # rtd data\n",
    "file_id_rtd=url_rtd.split('/')[-2]\n",
    "dwn_url_rtd='https://drive.google.com/uc?id=' + file_id_rtd\n",
    "\n",
    "url_routebusstop='https://drive.google.com/file/d/1oUXNyNECeB5mewBGC-gOnBObddnUxJtH/view?usp=sharing' # route bus stop data\n",
    "file_id_routebusstop=url_routebusstop.split('/')[-2]\n",
    "dwn_url_routebusstop='https://drive.google.com/uc?id=' + file_id_routebusstop\n",
    "\n",
    "url_engbusrepair='https://drive.google.com/file/d/1j1TaaCFTjo6QPAjTLA0oO0EvP5PZKuT3/view?usp=sharing' # eng bus repair data\n",
    "file_id_engbusrepair=url_engbusrepair.split('/')[-2]\n",
    "dwn_url_engbusrepair='https://drive.google.com/uc?id=' + file_id_engbusrepair\n",
    "\n",
    "url_depot='https://drive.google.com/file/d/12tLngAfJ94KRpd7PF2g91BjxmnmnUZMgu/view?usp=sharing' # depot data\n",
    "file_id_depot=url_depot.split('/')[-2]\n",
    "dwn_url_depot='https://drive.google.com/uc?id=' + file_id_depot\n",
    "\n",
    "url_captschedule='https://drive.google.com/file/d/1bc1QUGgn-pNGh2EEgqNPktekh1sVnVn0/view?usp=sharing' # captain schedule data ##\n",
    "file_id_captschedule=url_captschedule.split('/')[-2]\n",
    "dwn_url_captschedule='https://drive.google.com/uc?id=' + file_id_captschedule\n",
    "\n",
    "\n",
    "url_busstoplist='https://drive.google.com/file/d/1Ht9MtdExwMTSl_nlvT6xePbrVcrelYVa/view?usp=sharing' # bus stop list data\n",
    "file_id_busstoplist=url_busstoplist.split('/')[-2]\n",
    "dwn_url_busstoplist='https://drive.google.com/uc?id=' + file_id_busstoplist\n",
    "\n",
    "url_accident='https://drive.google.com/file/d/1Z9Dw_Qcb3JWnowbCmsZn9EDDBTJwmrJN/view?usp=sharing' # accident data\n",
    "file_id_accident=url_accident.split('/')[-2]\n",
    "dwn_url_accident='https://drive.google.com/uc?id=' + file_id_accident\n",
    "\n",
    "url_tripdeparture='https://drive.google.com/file/d/1ax4m65Ev0awt1nkE_aLYurhO5Ydp-cHt/view?usp=sharing' # trip departure data ##\n",
    "file_id_tripdeparture=url_tripdeparture.split('/')[-2]\n",
    "dwn_url_tripdeparture='https://drive.google.com/uc?id=' + file_id_tripdeparture\n",
    "\n",
    "'''"
   ]
  }
 ],
 "metadata": {
  "language_info": {
   "name": "python"
  },
  "orig_nbformat": 4
 },
 "nbformat": 4,
 "nbformat_minor": 2
}
