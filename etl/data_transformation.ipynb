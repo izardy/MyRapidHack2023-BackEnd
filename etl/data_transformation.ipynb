{
 "cells": [
  {
   "cell_type": "code",
   "execution_count": 7,
   "metadata": {},
   "outputs": [],
   "source": [
    "import pandas as pd\n",
    "import numpy as np\n",
    "pd.set_option('display.max_columns', None)"
   ]
  },
  {
   "cell_type": "markdown",
   "metadata": {},
   "source": [
    "### Info Depot"
   ]
  },
  {
   "cell_type": "code",
   "execution_count": 5,
   "metadata": {},
   "outputs": [],
   "source": [
    "infoDepot=pd.read_csv('../data/processed/InfoDEPOT.csv')\n",
    "infoDepot=infoDepot.to_json(orient = \"records\")\n",
    "\n",
    "with open('../data/processed/json/infoDepot.json', 'w') as f:\n",
    "    f.write(infoDepot)\n",
    "\n",
    "# run once to create solr collection infoDepot /home/hadoop/solr-9.3.0/bin/solr create -c infoDepot\n",
    "# run once to post data into infoDepot collection /home/hadoop/solr-9.3.0/bin/post -c infoDepot /home/hadoop/MyRapidHack2023-BackEnd/data/processed/json/infoDepot.json"
   ]
  },
  {
   "cell_type": "markdown",
   "metadata": {},
   "source": [
    "### Info Bas"
   ]
  },
  {
   "cell_type": "code",
   "execution_count": 14,
   "metadata": {},
   "outputs": [
    {
     "name": "stderr",
     "output_type": "stream",
     "text": [
      "c:\\Users\\izard\\anaconda3\\envs\\pytorch\\lib\\site-packages\\IPython\\core\\interactiveshell.py:3457: DtypeWarning: Columns (26) have mixed types.Specify dtype option on import or set low_memory=False.\n",
      "  exec(code_obj, self.user_global_ns, self.user_ns)\n"
     ]
    }
   ],
   "source": [
    "infoBas=pd.read_csv('../data/processed/InfoBAS.csv')\n",
    "infoBas['ope_date']=pd.to_datetime(infoBas['ope_date'])\n",
    "infoBas['br_date']=pd.to_datetime(infoBas['br_date'])\n",
    "infoBas['br_date_entry']=pd.to_datetime(infoBas['br_date_entry'])\n",
    "infoBas['br_target_completed']=pd.to_datetime(infoBas['br_target_completed'])\n",
    "infoBas['rtd_date']=pd.to_datetime(infoBas['rtd_date'])\n",
    "infoBas['date_issues']=pd.to_datetime(infoBas['date_issues'])\n",
    "infoBas['acc_date']=pd.to_datetime(infoBas['acc_date'])\n",
    "infoBas=infoBas.drop(columns=['label_1','label_2','label_3'])\n",
    "\n",
    "infoBas=infoBas.to_json(orient = \"records\")\n",
    "\n",
    "with open('../data/processed/json/infoBas.json', 'w') as f:\n",
    "    f.write(infoBas)\n",
    "\n",
    "# run once to create solr collection infoBas /home/hadoop/solr-9.3.0/bin/solr create -c infoBas\n",
    "# run once to post data into infoBas collection /home/hadoop/solr-9.3.0/bin/post -c infoDepot /home/hadoop/MyRapidHack2023-BackEnd/data/processed/json/infoBas.json"
   ]
  }
 ],
 "metadata": {
  "kernelspec": {
   "display_name": "pytorch",
   "language": "python",
   "name": "python3"
  },
  "language_info": {
   "codemirror_mode": {
    "name": "ipython",
    "version": 3
   },
   "file_extension": ".py",
   "mimetype": "text/x-python",
   "name": "python",
   "nbconvert_exporter": "python",
   "pygments_lexer": "ipython3",
   "version": "3.7.16"
  },
  "orig_nbformat": 4
 },
 "nbformat": 4,
 "nbformat_minor": 2
}
