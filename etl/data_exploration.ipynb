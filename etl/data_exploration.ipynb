{
 "cells": [
  {
   "cell_type": "code",
   "execution_count": 19,
   "metadata": {},
   "outputs": [],
   "source": [
    "#read data from google drive\n",
    "import pandas as pd\n",
    "\n",
    "url_route='https://drive.google.com/file/d/1Zpo2zNZ3V1W1X4Z-icmugbCMZwHIcvCQ/view?usp=sharing' #route data\n",
    "file_id_route=url_route.split('/')[-2]\n",
    "dwn_url_route='https://drive.google.com/uc?id=' + file_id_route\n",
    "\n",
    "url_rtd='https://drive.google.com/file/d/1rsJl1dTXFxP9NdzYWQDg-Mi5uaPq7Sdt/view?usp=sharing' # rtd data\n",
    "file_id_rtd=url_rtd.split('/')[-2]\n",
    "dwn_url_rtd='https://drive.google.com/uc?id=' + file_id_rtd\n",
    "\n",
    "url_routebusstop='https://drive.google.com/file/d/1oUXNyNECeB5mewBGC-gOnBObddnUxJtH/view?usp=sharing' # route bus stop data\n",
    "file_id_routebusstop=url_routebusstop.split('/')[-2]\n",
    "dwn_url_routebusstop='https://drive.google.com/uc?id=' + file_id_routebusstop\n",
    "\n",
    "url_engbusrepair='https://drive.google.com/file/d/1j1TaaCFTjo6QPAjTLA0oO0EvP5PZKuT3/view?usp=sharing' # eng bus repair data\n",
    "file_id_engbusrepair=url_engbusrepair.split('/')[-2]\n",
    "dwn_url_engbusrepair='https://drive.google.com/uc?id=' + file_id_engbusrepair\n",
    "\n",
    "url_depot='https://drive.google.com/file/d/12t8aUsXqHgv7d4N448naa9ELAUz543pu/view?usp=sharing' # depot data\n",
    "file_id_depot=url_depot.split('/')[-2]\n",
    "dwn_url_depot='https://drive.google.com/uc?id=' + file_id_depot\n",
    "\n",
    "url_captschedule='https://drive.google.com/file/d/1bc1QUGgn-pNGh2EEgqNPktekh1sVnVn0/view?usp=sharing' # captain schedule data ##\n",
    "file_id_captschedule=url_captschedule.split('/')[-2]\n",
    "dwn_url_captschedule='https://drive.google.com/uc?id=' + file_id_captschedule\n",
    "\n",
    "\n",
    "url_busstoplist='https://drive.google.com/file/d/1Ht9MtdExwMTSl_nlvT6xePbrVcrelYVa/view?usp=sharing' # bus stop list data\n",
    "file_id_busstoplist=url_busstoplist.split('/')[-2]\n",
    "dwn_url_busstoplist='https://drive.google.com/uc?id=' + file_id_busstoplist\n",
    "\n",
    "url_accident='https://drive.google.com/file/d/1Z9Dw_Qcb3JWnowbCmsZn9EDDBTJwmrJN/view?usp=sharing' # accident data\n",
    "file_id_accident=url_accident.split('/')[-2]\n",
    "dwn_url_accident='https://drive.google.com/uc?id=' + file_id_accident\n",
    "\n",
    "url_tripdeparture='https://drive.google.com/file/d/1ax4m65Ev0awt1nkE_aLYurhO5Ydp-cHt/view?usp=sharing' # trip departure data ##\n",
    "file_id_tripdeparture=url_tripdeparture.split('/')[-2]\n",
    "dwn_url_tripdeparture='https://drive.google.com/uc?id=' + file_id_tripdeparture\n",
    "\n"
   ]
  },
  {
   "cell_type": "code",
   "execution_count": 29,
   "metadata": {},
   "outputs": [
    {
     "data": {
      "text/html": [
       "<div>\n",
       "<style scoped>\n",
       "    .dataframe tbody tr th:only-of-type {\n",
       "        vertical-align: middle;\n",
       "    }\n",
       "\n",
       "    .dataframe tbody tr th {\n",
       "        vertical-align: top;\n",
       "    }\n",
       "\n",
       "    .dataframe thead th {\n",
       "        text-align: right;\n",
       "    }\n",
       "</style>\n",
       "<table border=\"1\" class=\"dataframe\">\n",
       "  <thead>\n",
       "    <tr style=\"text-align: right;\">\n",
       "      <th></th>\n",
       "      <th>&lt;!DOCTYPE html&gt;&lt;html&gt;&lt;head&gt;&lt;title&gt;Google Drive - Virus scan warning&lt;/title&gt;&lt;meta http-equiv=\"content-type\" content=\"text/html; charset=utf-8\"/&gt;&lt;style nonce=\"eMXywl5pJQwYTcEJf4vLTQ\"&gt;.goog-inline-block{position:relative;display:-moz-inline-box;display:inline-block}* html .goog-inline-block{display:inline}*:first-child+html .goog-inline-block{display:inline}.goog-link-button{position:relative;color:#15c;text-decoration:underline;cursor:pointer}.goog-link-button-disabled{color:#ccc;text-decoration:none;cursor:default}body{color:#222;font:normal 13px/1.4 arial</th>\n",
       "      <th>sans-serif;margin:0}.grecaptcha-badge{visibility:hidden}.uc-main{padding-top:50px;text-align:center}#uc-dl-icon{display:inline-block;margin-top:16px;padding-right:1em;vertical-align:top}#uc-text{display:inline-block;max-width:68ex;text-align:left}.uc-error-caption</th>\n",
       "      <th>.uc-warning-caption{color:#222;font-size:16px}#uc-download-link{text-decoration:none}.uc-name-size a{color:#15c;text-decoration:none}.uc-name-size a:visited{color:#61c;text-decoration:none}.uc-name-size a:active{color:#d14836;text-decoration:none}.uc-footer{color:#777;font-size:11px;padding-bottom:5ex;padding-top:5ex;text-align:center}.uc-footer a{color:#15c}.uc-footer a:visited{color:#61c}.uc-footer a:active{color:#d14836}.uc-footer-divider{color:#ccc;width:100%}sentinel{}&lt;/style&gt;&lt;link rel=\"icon\" href=\"//ssl.gstatic.com/docs/doclist/images/drive_2022q3_32dp.png\"/&gt;&lt;/head&gt;&lt;body&gt;&lt;div class=\"uc-main\"&gt;&lt;div id=\"uc-dl-icon\" class=\"image-container\"&gt;&lt;div class=\"drive-sprite-aux-download-file\"&gt;&lt;/div&gt;&lt;/div&gt;&lt;div id=\"uc-text\"&gt;&lt;p class=\"uc-warning-caption\"&gt;Google Drive can't scan this file for viruses.&lt;/p&gt;&lt;p class=\"uc-warning-subcaption\"&gt;&lt;span class=\"uc-name-size\"&gt;&lt;a href=\"/open?id=1ax4m65Ev0awt1nkE_aLYurhO5Ydp-cHt\"&gt;trip_departure.csv&lt;/a&gt; (1.6G)&lt;/span&gt; is too large for Google to scan for viruses. Would you still like to download this file?&lt;/p&gt;&lt;form id=\"download-form\" action=\"https://drive.google.com/uc?id=1ax4m65Ev0awt1nkE_aLYurhO5Ydp-cHt&amp;amp;confirm=t&amp;amp;uuid=ab858f58-919f-4db4-aef4-4878214e80ba\" method=\"post\"&gt;&lt;input type=\"submit\" id=\"uc-download-link\" class=\"goog-inline-block jfk-button jfk-button-action\" value=\"Download anyway\"/&gt;&lt;/form&gt;&lt;/div&gt;&lt;/div&gt;&lt;div class=\"uc-footer\"&gt;&lt;hr class=\"uc-footer-divider\"&gt;&lt;/div&gt;&lt;/body&gt;&lt;/html&gt;</th>\n",
       "    </tr>\n",
       "  </thead>\n",
       "  <tbody>\n",
       "  </tbody>\n",
       "</table>\n",
       "</div>"
      ],
      "text/plain": [
       "Empty DataFrame\n",
       "Columns: [<!DOCTYPE html><html><head><title>Google Drive - Virus scan warning</title><meta http-equiv=\"content-type\" content=\"text/html; charset=utf-8\"/><style nonce=\"eMXywl5pJQwYTcEJf4vLTQ\">.goog-inline-block{position:relative;display:-moz-inline-box;display:inline-block}* html .goog-inline-block{display:inline}*:first-child+html .goog-inline-block{display:inline}.goog-link-button{position:relative;color:#15c;text-decoration:underline;cursor:pointer}.goog-link-button-disabled{color:#ccc;text-decoration:none;cursor:default}body{color:#222;font:normal 13px/1.4 arial, sans-serif;margin:0}.grecaptcha-badge{visibility:hidden}.uc-main{padding-top:50px;text-align:center}#uc-dl-icon{display:inline-block;margin-top:16px;padding-right:1em;vertical-align:top}#uc-text{display:inline-block;max-width:68ex;text-align:left}.uc-error-caption, .uc-warning-caption{color:#222;font-size:16px}#uc-download-link{text-decoration:none}.uc-name-size a{color:#15c;text-decoration:none}.uc-name-size a:visited{color:#61c;text-decoration:none}.uc-name-size a:active{color:#d14836;text-decoration:none}.uc-footer{color:#777;font-size:11px;padding-bottom:5ex;padding-top:5ex;text-align:center}.uc-footer a{color:#15c}.uc-footer a:visited{color:#61c}.uc-footer a:active{color:#d14836}.uc-footer-divider{color:#ccc;width:100%}sentinel{}</style><link rel=\"icon\" href=\"//ssl.gstatic.com/docs/doclist/images/drive_2022q3_32dp.png\"/></head><body><div class=\"uc-main\"><div id=\"uc-dl-icon\" class=\"image-container\"><div class=\"drive-sprite-aux-download-file\"></div></div><div id=\"uc-text\"><p class=\"uc-warning-caption\">Google Drive can't scan this file for viruses.</p><p class=\"uc-warning-subcaption\"><span class=\"uc-name-size\"><a href=\"/open?id=1ax4m65Ev0awt1nkE_aLYurhO5Ydp-cHt\">trip_departure.csv</a> (1.6G)</span> is too large for Google to scan for viruses. Would you still like to download this file?</p><form id=\"download-form\" action=\"https://drive.google.com/uc?id=1ax4m65Ev0awt1nkE_aLYurhO5Ydp-cHt&amp;confirm=t&amp;uuid=ab858f58-919f-4db4-aef4-4878214e80ba\" method=\"post\"><input type=\"submit\" id=\"uc-download-link\" class=\"goog-inline-block jfk-button jfk-button-action\" value=\"Download anyway\"/></form></div></div><div class=\"uc-footer\"><hr class=\"uc-footer-divider\"></div></body></html>]\n",
       "Index: []"
      ]
     },
     "execution_count": 29,
     "metadata": {},
     "output_type": "execute_result"
    }
   ],
   "source": [
    "#bus profiling\n",
    "pd.read_csv(dwn_url_tripdeparture).head(10)\n"
   ]
  }
 ],
 "metadata": {
  "kernelspec": {
   "display_name": "base",
   "language": "python",
   "name": "python3"
  },
  "language_info": {
   "codemirror_mode": {
    "name": "ipython",
    "version": 3
   },
   "file_extension": ".py",
   "mimetype": "text/x-python",
   "name": "python",
   "nbconvert_exporter": "python",
   "pygments_lexer": "ipython3",
   "version": "3.9.13"
  },
  "orig_nbformat": 4
 },
 "nbformat": 4,
 "nbformat_minor": 2
}
